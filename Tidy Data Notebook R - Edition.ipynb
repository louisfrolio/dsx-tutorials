{
    "nbformat": 4, 
    "nbformat_minor": 0, 
    "cells": [
        {
            "source": "# The code was removed by DSX for sharing.", 
            "execution_count": 1, 
            "cell_type": "code", 
            "metadata": {
                "collapsed": true
            }, 
            "outputs": []
        }, 
        {
            "source": "# The code was removed by DSX for sharing.", 
            "execution_count": 2, 
            "cell_type": "code", 
            "metadata": {
                "collapsed": false
            }, 
            "outputs": [
                {
                    "name": "stderr", 
                    "text": "Loading required package: devtools\n", 
                    "output_type": "stream"
                }
            ]
        }, 
        {
            "source": "# Install custom (IBM DSX GitHub) packages\n# https://github.com/IBMDataScience/objectStoreR\ninstall_github('IBMDataScience/objectStoreR')", 
            "execution_count": 3, 
            "cell_type": "code", 
            "metadata": {
                "collapsed": false
            }, 
            "outputs": [
                {
                    "name": "stderr", 
                    "text": "Skipping install of 'objectStoreR' from a github remote, the SHA1 (d6a07c5b) has not changed since last install.\n  Use `force = TRUE` to force installation\n", 
                    "output_type": "stream"
                }
            ]
        }, 
        {
            "source": "# Load objectStoreR into the session\nlibrary('objectStoreR')", 
            "execution_count": 4, 
            "cell_type": "code", 
            "metadata": {
                "collapsed": true
            }, 
            "outputs": []
        }
    ], 
    "metadata": {
        "language_info": {
            "file_extension": ".r", 
            "mimetype": "text/x-r-source", 
            "pygments_lexer": "r", 
            "version": "3.3.2", 
            "name": "R", 
            "codemirror_mode": "r"
        }, 
        "kernelspec": {
            "name": "r", 
            "display_name": "R with Spark 1.6", 
            "language": "R"
        }
    }
}