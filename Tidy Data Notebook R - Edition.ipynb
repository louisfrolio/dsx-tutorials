{
    "cells": [
        {
            "cell_type": "code", 
            "metadata": {
                "collapsed": true
            }, 
            "outputs": [], 
            "source": "# The code was removed by DSX for sharing.", 
            "execution_count": 1
        }, 
        {
            "cell_type": "code", 
            "metadata": {
                "collapsed": false
            }, 
            "outputs": [
                {
                    "text": "Loading required package: devtools\n", 
                    "output_type": "stream", 
                    "name": "stderr"
                }
            ], 
            "source": "#Required Packages Section\nif(!require(devtools)){\n    install.packages(\"devtools\")\n    library(devtools)\n}", 
            "execution_count": 2
        }, 
        {
            "cell_type": "code", 
            "metadata": {
                "collapsed": false
            }, 
            "outputs": [
                {
                    "text": "Skipping install of 'objectStoreR' from a github remote, the SHA1 (d6a07c5b) has not changed since last install.\n  Use `force = TRUE` to force installation\n", 
                    "output_type": "stream", 
                    "name": "stderr"
                }
            ], 
            "source": "# Install custom (IBM DSX GitHub) packages\n# https://github.com/IBMDataScience/objectStoreR\ninstall_github('IBMDataScience/objectStoreR')", 
            "execution_count": 3
        }, 
        {
            "cell_type": "code", 
            "metadata": {
                "collapsed": true
            }, 
            "outputs": [], 
            "source": "# Load objectStoreR into the session\nlibrary('objectStoreR')", 
            "execution_count": 4
        }, 
        {
            "cell_type": "code", 
            "metadata": {
                "collapsed": false
            }, 
            "outputs": [
                {
                    "text": "\n", 
                    "output_type": "stream", 
                    "name": "stdout"
                }, 
                {
                    "text": "No encoding supplied: defaulting to UTF-8.\n", 
                    "output_type": "stream", 
                    "name": "stderr"
                }
            ], 
            "source": "# Using the package objectStoreR, invoke the \"get\" function to retrieve \"sample.csv\"\n# from object storage and put into a data frame\nsampleData <- objectStore.get(credentials_1)", 
            "execution_count": 5
        }, 
        {
            "cell_type": "code", 
            "metadata": {
                "collapsed": false
            }, 
            "outputs": [
                {
                    "metadata": {}, 
                    "data": {
                        "text/html": "TRUE", 
                        "text/plain": "[1] TRUE", 
                        "text/markdown": "TRUE", 
                        "text/latex": "TRUE"
                    }, 
                    "output_type": "display_data"
                }
            ], 
            "source": "# Verify dataframe\nis.data.frame(sampleData)", 
            "execution_count": 6
        }, 
        {
            "cell_type": "code", 
            "metadata": {
                "collapsed": false
            }, 
            "outputs": [
                {
                    "metadata": {}, 
                    "data": {
                        "text/plain": "  name age\n1 fred 18 \n2 sue  28 \n3 alex 12 ", 
                        "text/html": "<table>\n<thead><tr><th scope=col>name</th><th scope=col>age</th></tr></thead>\n<tbody>\n\t<tr><td>fred</td><td>18  </td></tr>\n\t<tr><td>sue </td><td>28  </td></tr>\n\t<tr><td>alex</td><td>12  </td></tr>\n</tbody>\n</table>\n", 
                        "text/latex": "\\begin{tabular}{r|ll}\n name & age\\\\\n\\hline\n\t fred & 18  \\\\\n\t sue  & 28  \\\\\n\t alex & 12  \\\\\n\\end{tabular}\n"
                    }, 
                    "output_type": "display_data"
                }
            ], 
            "source": "# Output contents of data frame\nsampleData", 
            "execution_count": 7
        }, 
        {
            "cell_type": "code", 
            "metadata": {
                "collapsed": true
            }, 
            "outputs": [], 
            "source": "# Grab external data and put it into a dataframe\n# Document the URL and timestamp for the download\n\nfileUrl <- \"https://spark-public.s3.amazonaws.com/dataanalysis/loansData.csv?accessType=DOWNLOAD\"\ndownload.file(fileUrl,destfile=\"./loansData.csv\",mode=\"w\")\nloanDataRaw <- read.csv(\"./loansData.csv\",as.is=TRUE)\n# Mark the date of this download\ndateDownloaded <- date()", 
            "execution_count": 8
        }, 
        {
            "cell_type": "code", 
            "metadata": {
                "collapsed": false
            }, 
            "outputs": [
                {
                    "text": "File accessed from => https://spark-public.s3.amazonaws.com/dataanalysis/loansData.csv?accessType=DOWNLOAD \nFile downloaded on => Wed Mar 22 21:00:39 2017", 
                    "output_type": "stream", 
                    "name": "stdout"
                }
            ], 
            "source": "# Self-document file source and download date\ncat(\"File accessed from =>\", fileUrl, \"\\n\")\ncat(\"File downloaded on =>\" , dateDownloaded)", 
            "execution_count": 9
        }, 
        {
            "cell_type": "code", 
            "metadata": {
                "collapsed": false
            }, 
            "outputs": [
                {
                    "metadata": {}, 
                    "data": {
                        "text/html": "<ol class=list-inline>\n\t<li>2500</li>\n\t<li>14</li>\n</ol>\n", 
                        "text/plain": "[1] 2500   14", 
                        "text/markdown": "1. 2500\n2. 14\n\n\n", 
                        "text/latex": "\\begin{enumerate*}\n\\item 2500\n\\item 14\n\\end{enumerate*}\n"
                    }, 
                    "output_type": "display_data"
                }
            ], 
            "source": "# Quick look at shape and size of \"loanDataRaw\"\n# Rows and columns\ndim(loanDataRaw)", 
            "execution_count": 10
        }, 
        {
            "cell_type": "code", 
            "metadata": {
                "collapsed": false
            }, 
            "outputs": [
                {
                    "metadata": {}, 
                    "data": {
                        "text/html": "<dl class=dl-horizontal>\n\t<dt>Amount.Requested</dt>\n\t\t<dd>'integer'</dd>\n\t<dt>Amount.Funded.By.Investors</dt>\n\t\t<dd>'numeric'</dd>\n\t<dt>Interest.Rate</dt>\n\t\t<dd>'character'</dd>\n\t<dt>Loan.Length</dt>\n\t\t<dd>'character'</dd>\n\t<dt>Loan.Purpose</dt>\n\t\t<dd>'character'</dd>\n\t<dt>Debt.To.Income.Ratio</dt>\n\t\t<dd>'character'</dd>\n\t<dt>State</dt>\n\t\t<dd>'character'</dd>\n\t<dt>Home.Ownership</dt>\n\t\t<dd>'character'</dd>\n\t<dt>Monthly.Income</dt>\n\t\t<dd>'numeric'</dd>\n\t<dt>FICO.Range</dt>\n\t\t<dd>'character'</dd>\n\t<dt>Open.CREDIT.Lines</dt>\n\t\t<dd>'integer'</dd>\n\t<dt>Revolving.CREDIT.Balance</dt>\n\t\t<dd>'integer'</dd>\n\t<dt>Inquiries.in.the.Last.6.Months</dt>\n\t\t<dd>'integer'</dd>\n\t<dt>Employment.Length</dt>\n\t\t<dd>'character'</dd>\n</dl>\n", 
                        "text/plain": "              Amount.Requested     Amount.Funded.By.Investors \n                     \"integer\"                      \"numeric\" \n                 Interest.Rate                    Loan.Length \n                   \"character\"                    \"character\" \n                  Loan.Purpose           Debt.To.Income.Ratio \n                   \"character\"                    \"character\" \n                         State                 Home.Ownership \n                   \"character\"                    \"character\" \n                Monthly.Income                     FICO.Range \n                     \"numeric\"                    \"character\" \n             Open.CREDIT.Lines       Revolving.CREDIT.Balance \n                     \"integer\"                      \"integer\" \nInquiries.in.the.Last.6.Months              Employment.Length \n                     \"integer\"                    \"character\" ", 
                        "text/markdown": "Amount.Requested\n:   'integer'Amount.Funded.By.Investors\n:   'numeric'Interest.Rate\n:   'character'Loan.Length\n:   'character'Loan.Purpose\n:   'character'Debt.To.Income.Ratio\n:   'character'State\n:   'character'Home.Ownership\n:   'character'Monthly.Income\n:   'numeric'FICO.Range\n:   'character'Open.CREDIT.Lines\n:   'integer'Revolving.CREDIT.Balance\n:   'integer'Inquiries.in.the.Last.6.Months\n:   'integer'Employment.Length\n:   'character'\n\n", 
                        "text/latex": "\\begin{description*}\n\\item[Amount.Requested] 'integer'\n\\item[Amount.Funded.By.Investors] 'numeric'\n\\item[Interest.Rate] 'character'\n\\item[Loan.Length] 'character'\n\\item[Loan.Purpose] 'character'\n\\item[Debt.To.Income.Ratio] 'character'\n\\item[State] 'character'\n\\item[Home.Ownership] 'character'\n\\item[Monthly.Income] 'numeric'\n\\item[FICO.Range] 'character'\n\\item[Open.CREDIT.Lines] 'integer'\n\\item[Revolving.CREDIT.Balance] 'integer'\n\\item[Inquiries.in.the.Last.6.Months] 'integer'\n\\item[Employment.Length] 'character'\n\\end{description*}\n"
                    }, 
                    "output_type": "display_data"
                }
            ], 
            "source": "# Quick look at shape and size of \"loanDataRaw\"\n# Determine column headings and their datatypes\nsapply(loanDataRaw[1,],class)", 
            "execution_count": 11
        }, 
        {
            "cell_type": "code", 
            "metadata": {
                "collapsed": false
            }, 
            "outputs": [
                {
                    "metadata": {}, 
                    "data": {
                        "text/plain": " Amount.Requested Amount.Funded.By.Investors Interest.Rate     \n Min.   : 1000    Min.   :   -0.01           Length:2500       \n 1st Qu.: 6000    1st Qu.: 6000.00           Class :character  \n Median :10000    Median :10000.00           Mode  :character  \n Mean   :12406    Mean   :12001.57                             \n 3rd Qu.:17000    3rd Qu.:16000.00                             \n Max.   :35000    Max.   :35000.00                             \n                                                               \n Loan.Length        Loan.Purpose       Debt.To.Income.Ratio    State          \n Length:2500        Length:2500        Length:2500          Length:2500       \n Class :character   Class :character   Class :character     Class :character  \n Mode  :character   Mode  :character   Mode  :character     Mode  :character  \n                                                                              \n                                                                              \n                                                                              \n                                                                              \n Home.Ownership     Monthly.Income      FICO.Range        Open.CREDIT.Lines\n Length:2500        Min.   :   588.5   Length:2500        Min.   : 2.00    \n Class :character   1st Qu.:  3500.0   Class :character   1st Qu.: 7.00    \n Mode  :character   Median :  5000.0   Mode  :character   Median : 9.00    \n                    Mean   :  5688.9                      Mean   :10.08    \n                    3rd Qu.:  6800.0                      3rd Qu.:13.00    \n                    Max.   :102750.0                      Max.   :38.00    \n                    NA's   :1                             NA's   :2        \n Revolving.CREDIT.Balance Inquiries.in.the.Last.6.Months Employment.Length \n Min.   :     0           Min.   :0.0000                 Length:2500       \n 1st Qu.:  5586           1st Qu.:0.0000                 Class :character  \n Median : 10962           Median :0.0000                 Mode  :character  \n Mean   : 15245           Mean   :0.9063                                   \n 3rd Qu.: 18889           3rd Qu.:1.0000                                   \n Max.   :270800           Max.   :9.0000                                   \n NA's   :2                NA's   :2                                        "
                    }, 
                    "output_type": "display_data"
                }
            ], 
            "source": "# Quick look at shape and size of \"loanDataRaw\"\nsummary(loanDataRaw)", 
            "execution_count": 12
        }
    ], 
    "nbformat": 4, 
    "metadata": {
        "kernelspec": {
            "display_name": "R with Spark 1.6", 
            "name": "r", 
            "language": "R"
        }, 
        "language_info": {
            "version": "3.3.2", 
            "mimetype": "text/x-r-source", 
            "codemirror_mode": "r", 
            "file_extension": ".r", 
            "name": "R", 
            "pygments_lexer": "r"
        }
    }, 
    "nbformat_minor": 0
}